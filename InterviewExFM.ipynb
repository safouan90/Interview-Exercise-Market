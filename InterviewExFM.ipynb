{
  "nbformat": 4,
  "nbformat_minor": 0,
  "metadata": {
    "colab": {
      "name": "InterviewExFM.ipynb",
      "provenance": [],
      "collapsed_sections": [],
      "authorship_tag": "ABX9TyNph4efY0r++4AiMixSwEuP",
      "include_colab_link": true
    },
    "kernelspec": {
      "name": "python3",
      "display_name": "Python 3"
    }
  },
  "cells": [
    {
      "cell_type": "markdown",
      "metadata": {
        "id": "view-in-github",
        "colab_type": "text"
      },
      "source": [
        "<a href=\"https://colab.research.google.com/github/safouan90/Interview-Exercise-Market/blob/main/InterviewExFM.ipynb\" target=\"_parent\"><img src=\"https://colab.research.google.com/assets/colab-badge.svg\" alt=\"Open In Colab\"/></a>"
      ]
    },
    {
      "cell_type": "markdown",
      "metadata": {
        "id": "Ct8rwP2Tqsvm"
      },
      "source": [
        "\r\n",
        "\r\n",
        "# **Practical Interview**\r\n",
        "### **STEP I : DATA PROCESSING** \r\n",
        "\r\n"
      ]
    },
    {
      "cell_type": "markdown",
      "metadata": {
        "id": "H1uvEmebtX5R"
      },
      "source": [
        "Allowed python libraries for this exercise"
      ]
    },
    {
      "cell_type": "code",
      "metadata": {
        "id": "8yLgdOpCiwLG"
      },
      "source": [
        "import pandas as pd\r\n",
        "import numpy as np\r\n",
        "import matplotlib.pyplot as plt \r\n",
        "from scipy.stats import t\r\n",
        "from scipy.stats import chi2"
      ],
      "execution_count": 4,
      "outputs": []
    },
    {
      "cell_type": "markdown",
      "metadata": {
        "id": "SFCWr0MTuSMZ"
      },
      "source": [
        "### **Data Import**\r\n",
        "To make this code **reproducible**, which means that it can be executed everywhere, I use a accessible link to call **data_market.json** that I have dowloaded previously on a GitHub repository."
      ]
    },
    {
      "cell_type": "code",
      "metadata": {
        "id": "CSjwfFVpjkhT"
      },
      "source": [
        "MarketDf = pd.read_json('https://raw.githubusercontent.com/safouan90/Interview-Exercise-Market/main/market_data.json')"
      ],
      "execution_count": 5,
      "outputs": []
    },
    {
      "cell_type": "markdown",
      "metadata": {
        "id": "qU5mE3hOIoNY"
      },
      "source": [
        "### **Tidy Data**"
      ]
    },
    {
      "cell_type": "markdown",
      "metadata": {
        "id": "XQ0QNYQtyolX"
      },
      "source": [
        "First impression with **Market_data.json**"
      ]
    },
    {
      "cell_type": "code",
      "metadata": {
        "id": "Bufp5nlfo_y8"
      },
      "source": [
        "MarketDf.head()"
      ],
      "execution_count": null,
      "outputs": []
    },
    {
      "cell_type": "markdown",
      "metadata": {
        "id": "cq9HW0CTzQK_"
      },
      "source": [
        "This data contains seven stocks types, with a diffrent starting Date. The values of each record are nested in a dict which makes it more tedious for extracting tasks. In the next chunks I will investigate the length of each stocks types to construct a common indexing for all stocks based on Dates of most recorded stocks type."
      ]
    },
    {
      "cell_type": "code",
      "metadata": {
        "colab": {
          "base_uri": "https://localhost:8080/"
        },
        "id": "B7jVSo8c2WF0",
        "outputId": "b0cad2b5-3fc4-42e1-f343-c4aef58d467b"
      },
      "source": [
        "#To view market_data columns\r\n",
        "\r\n",
        "MarketDf.columns"
      ],
      "execution_count": 7,
      "outputs": [
        {
          "output_type": "execute_result",
          "data": {
            "text/plain": [
              "Index(['AAPL', 'GLD', 'GOOG', 'IBM', 'IVV', 'SPX', 'NDX'], dtype='object')"
            ]
          },
          "metadata": {
            "tags": []
          },
          "execution_count": 7
        }
      ]
    },
    {
      "cell_type": "code",
      "metadata": {
        "id": "bDIAgFQRpj0Q"
      },
      "source": [
        "#Market stocks real length after dropping NaN created by DataFrame importation\r\n",
        "\r\n",
        "AAPL = MarketDf['AAPL'].dropna()\r\n",
        "GLD  = MarketDf['GLD'].dropna()  \r\n",
        "GOOG = MarketDf['GOOG'].dropna()\r\n",
        "IBM  = MarketDf['IBM'].dropna()\r\n",
        "IVV  = MarketDf['IVV'].dropna()\r\n",
        "SPX  = MarketDf['SPX'].dropna()\r\n",
        "NDX  = MarketDf['NDX'].dropna()\r\n",
        "\r\n",
        "#This chunk could be executed using a loop on MarketDf.columns and eval function, but I write it in this way to make it more readable"
      ],
      "execution_count": 8,
      "outputs": []
    },
    {
      "cell_type": "code",
      "metadata": {
        "id": "bp4_2OjO8Fw7"
      },
      "source": [
        "#Computing length of each stock market\r\n",
        "\r\n",
        "aaplLen = len(AAPL)\r\n",
        "gldLen  = len(GLD)\r\n",
        "googLen = len(GOOG)\r\n",
        "ibmLen  = len(IBM)\r\n",
        "ivvLen  = len(IVV)\r\n",
        "spxLen  = len(SPX)\r\n",
        "ndxLen  = len(NDX)"
      ],
      "execution_count": 9,
      "outputs": []
    },
    {
      "cell_type": "code",
      "metadata": {
        "id": "0lPAOvtOW80P"
      },
      "source": [
        "#Replacing index stock series with the range from 0 to the length of each series to avoid problems when looping\r\n",
        "\r\n",
        "AAPL =  pd.Series(AAPL.values , index = np.arange(0, aaplLen))\r\n",
        "GLD  =  pd.Series(GLD.values  , index = np.arange(0, gldLen))  \r\n",
        "GOOG =  pd.Series(GOOG.values , index = np.arange(0, googLen))\r\n",
        "IBM  =  pd.Series(IBM.values  , index = np.arange(0, ibmLen))\r\n",
        "IVV  =  pd.Series(IVV.values  , index = np.arange(0, ivvLen))\r\n",
        "SPX  =  pd.Series(SPX.values  , index = np.arange(0, spxLen))\r\n",
        "NDX  =  pd.Series(NDX.values  , index = np.arange(0, ndxLen))"
      ],
      "execution_count": 10,
      "outputs": []
    },
    {
      "cell_type": "code",
      "metadata": {
        "colab": {
          "base_uri": "https://localhost:8080/",
          "height": 269
        },
        "id": "0fDrsOKi-M3V",
        "outputId": "8adb1bd1-3e5a-4d1f-a873-ba5469258324"
      },
      "source": [
        "#Making a list starting and ending date for each stock type\r\n",
        "\r\n",
        "lstStartEnd = [\r\n",
        "               \r\n",
        " [ AAPL[0]['Date'] , AAPL[aaplLen - 1]['Date'] , aaplLen ] ,\r\n",
        " [ GLD[0]['Date']  , GLD[gldLen - 1]['Date']   , gldLen  ] ,\r\n",
        " [ GOOG[0]['Date'] , GOOG[googLen - 1]['Date'] , googLen ] , \r\n",
        " [ IBM[0]['Date']  , IBM[ibmLen - 1]['Date']   , ibmLen  ] , \r\n",
        " [ IVV[0]['Date']  , IVV[ivvLen - 1]['Date']   , ivvLen  ] , \r\n",
        " [ SPX[0]['Date']  , SPX[spxLen - 1]['Date']   , spxLen  ] , \r\n",
        " [ NDX[0]['Date']  , NDX[ndxLen - 1]['Date']   , ndxLen  ]\r\n",
        "              \r\n",
        "              ] \r\n",
        "\r\n",
        "#Constructing a dataframe for more visibility\r\n",
        "\r\n",
        "StartEndStocks = pd.DataFrame( columns = ['Start_Date', 'End_Date', 'Records' ], \r\n",
        "                               index   = MarketDf.columns           , \r\n",
        "                               data    =  lstStartEnd ) \r\n",
        "\r\n",
        "#viewing results\r\n",
        "\r\n",
        "StartEndStocks       "
      ],
      "execution_count": 11,
      "outputs": [
        {
          "output_type": "execute_result",
          "data": {
            "text/html": [
              "<div>\n",
              "<style scoped>\n",
              "    .dataframe tbody tr th:only-of-type {\n",
              "        vertical-align: middle;\n",
              "    }\n",
              "\n",
              "    .dataframe tbody tr th {\n",
              "        vertical-align: top;\n",
              "    }\n",
              "\n",
              "    .dataframe thead th {\n",
              "        text-align: right;\n",
              "    }\n",
              "</style>\n",
              "<table border=\"1\" class=\"dataframe\">\n",
              "  <thead>\n",
              "    <tr style=\"text-align: right;\">\n",
              "      <th></th>\n",
              "      <th>Start_Date</th>\n",
              "      <th>End_Date</th>\n",
              "      <th>Records</th>\n",
              "    </tr>\n",
              "  </thead>\n",
              "  <tbody>\n",
              "    <tr>\n",
              "      <th>AAPL</th>\n",
              "      <td>1984-09-07</td>\n",
              "      <td>2021-01-22</td>\n",
              "      <td>9167</td>\n",
              "    </tr>\n",
              "    <tr>\n",
              "      <th>GLD</th>\n",
              "      <td>2005-02-25</td>\n",
              "      <td>2021-01-22</td>\n",
              "      <td>4004</td>\n",
              "    </tr>\n",
              "    <tr>\n",
              "      <th>GOOG</th>\n",
              "      <td>2004-08-19</td>\n",
              "      <td>2021-01-22</td>\n",
              "      <td>4136</td>\n",
              "    </tr>\n",
              "    <tr>\n",
              "      <th>IBM</th>\n",
              "      <td>1962-01-02</td>\n",
              "      <td>2021-01-22</td>\n",
              "      <td>14859</td>\n",
              "    </tr>\n",
              "    <tr>\n",
              "      <th>IVV</th>\n",
              "      <td>2005-02-25</td>\n",
              "      <td>2021-01-22</td>\n",
              "      <td>4004</td>\n",
              "    </tr>\n",
              "    <tr>\n",
              "      <th>SPX</th>\n",
              "      <td>1789-05-01</td>\n",
              "      <td>2021-01-22</td>\n",
              "      <td>38364</td>\n",
              "    </tr>\n",
              "    <tr>\n",
              "      <th>NDX</th>\n",
              "      <td>1985-10-01</td>\n",
              "      <td>2021-01-22</td>\n",
              "      <td>8901</td>\n",
              "    </tr>\n",
              "  </tbody>\n",
              "</table>\n",
              "</div>"
            ],
            "text/plain": [
              "      Start_Date    End_Date  Records\n",
              "AAPL  1984-09-07  2021-01-22     9167\n",
              "GLD   2005-02-25  2021-01-22     4004\n",
              "GOOG  2004-08-19  2021-01-22     4136\n",
              "IBM   1962-01-02  2021-01-22    14859\n",
              "IVV   2005-02-25  2021-01-22     4004\n",
              "SPX   1789-05-01  2021-01-22    38364\n",
              "NDX   1985-10-01  2021-01-22     8901"
            ]
          },
          "metadata": {
            "tags": []
          },
          "execution_count": 11
        }
      ]
    },
    {
      "cell_type": "markdown",
      "metadata": {
        "id": "Ejn162GJFTMl"
      },
      "source": [
        "It seems that SPX is the most recorded stock type, and its period recording contains all other stock types. So, it is a good indexing reference for all stocks.\r\n",
        "\r\n",
        "For quering Financial data, in a scalable and efficient way, all records from all stocks, should be aligned with a indexing date. In our case, date of SPX is the chosen Index.\r\n",
        "\r\n",
        "In next chunks, I will extract relevant data (Date & Close price) and indexing them in one rectangular data following a unified date records."
      ]
    },
    {
      "cell_type": "code",
      "metadata": {
        "id": "Cl9P7ZFyILzP"
      },
      "source": [
        "#Extracting some data with compherension list, which more efficient than looping market_data.json with for or while loop\r\n",
        "\r\n",
        "lstDateClose_AAPL = [    [ AAPL[i]['Date'] ,  AAPL[i]['Close']]     for i in range(0, aaplLen) ]\r\n",
        "lstDateClose_GLD  = [    [ GLD[i]['Date']  ,  GLD[i]['Close'] ]     for i in range(0, gldLen)  ]\r\n",
        "lstDateClose_GOOG = [    [ GOOG[i]['Date'] ,  GOOG[i]['Close']]     for i in range(0, googLen) ]\r\n",
        "lstDateClose_IBM  = [    [ IBM[i]['Date']  ,  IBM[i]['Close'] ]     for i in range(0, ibmLen)  ]\r\n",
        "lstDateClose_IVV  = [    [ IVV[i]['Date']  ,  IVV[i]['Close'] ]     for i in range(0, ivvLen)  ]\r\n",
        "lstDateClose_SPX  = [    [ SPX[i]['Date']  ,  SPX[i]['Close'] ]     for i in range(0, spxLen)  ]\r\n",
        "lstDateClose_NDX  = [    [ NDX[i]['Date']  ,  NDX[i]['Close'] ]     for i in range(0, ndxLen)  ]"
      ],
      "execution_count": 12,
      "outputs": []
    },
    {
      "cell_type": "code",
      "metadata": {
        "id": "pIzr-rdLa-e7"
      },
      "source": [
        "#Creating a DataFrame for each stock type\r\n",
        "\r\n",
        "AAPLdF = pd.DataFrame( columns = [ 'Date', 'AAPL' ],  data = lstDateClose_AAPL ) \r\n",
        "GLDdF  = pd.DataFrame( columns = [ 'Date', 'GLD'  ],  data = lstDateClose_GLD  ) \r\n",
        "GOOGF  = pd.DataFrame( columns = [ 'Date', 'GOOG' ],  data = lstDateClose_GOOG ) \r\n",
        "IBMdF  = pd.DataFrame( columns = [ 'Date', 'IBM'  ],  data = lstDateClose_IBM  )\r\n",
        "IVVdF  = pd.DataFrame( columns = [ 'Date', 'IVV'  ],  data = lstDateClose_IVV  ) \r\n",
        "SPXdF  = pd.DataFrame( columns = [ 'Date', 'SPX'  ],  data = lstDateClose_SPX  ) \r\n",
        "NDXdF  = pd.DataFrame( columns = [ 'Date', 'NDX'  ],  data = lstDateClose_NDX  ) \r\n",
        "\r\n",
        "\r\n",
        "AAPLdF['Date'] = pd.to_datetime(AAPLdF['Date'])\r\n",
        "GLDdF['Date']  = pd.to_datetime(GLDdF['Date'])\r\n",
        "GOOGF['Date']  = pd.to_datetime(GOOGF['Date'])\r\n",
        "IBMdF['Date']  = pd.to_datetime(IBMdF['Date'])\r\n",
        "IVVdF['Date']  = pd.to_datetime(IVVdF['Date'])\r\n",
        "SPXdF['Date']  = pd.to_datetime(SPXdF['Date'])\r\n",
        "NDXdF['Date']  = pd.to_datetime(NDXdF['Date'])\r\n",
        "\r\n",
        "\r\n",
        "#Setting index to date of each stocks DataFrame\r\n",
        "\r\n",
        "AAPLdF = AAPLdF.set_index('Date')\r\n",
        "GLDdF  = GLDdF.set_index('Date')\r\n",
        "GOOGF  = GOOGF.set_index('Date')\r\n",
        "IBMdF  = IBMdF.set_index('Date')\r\n",
        "IVVdF  = IVVdF.set_index('Date')\r\n",
        "SPXdF  = SPXdF.set_index('Date')\r\n",
        "NDXdF  = NDXdF.set_index('Date')"
      ],
      "execution_count": 13,
      "outputs": []
    },
    {
      "cell_type": "code",
      "metadata": {
        "colab": {
          "base_uri": "https://localhost:8080/",
          "height": 676
        },
        "id": "mSbO-zLYiPYJ",
        "outputId": "4030803b-4ca0-4065-b05f-18338fe6daab"
      },
      "source": [
        "#To avoid errors when querying dates, I will generate a more general indexing list that contains all days between Start date\r\n",
        "#and ending date of SPX \r\n",
        "\r\n",
        "genIn    = pd.date_range(start='1789-05-01', end='2021-01-22')\r\n",
        "\r\n",
        "\r\n",
        "#Gathering all stock prices in one scalable data according to genInStr\r\n",
        "\r\n",
        "ScalableMarketDf = pd.concat([AAPLdF, GLDdF, GOOGF, IBMdF, IVVdF, SPXdF, NDXdF], axis=1).reindex(genIn)\r\n",
        "\r\n",
        "\r\n",
        "\r\n",
        "#Using our built DataFrame, we can query safely and efficiently Market Data, with Pandas's arguments \r\n",
        "\r\n",
        "ScalableMarketDf['2021-01-01':'2021-01-20'][['GOOG','AAPL']]\r\n",
        "\r\n",
        "#Martin Luther King Day: lundi, 18 janvier 2021, our data contains also all days when markets are closed represented by NaN"
      ],
      "execution_count": 14,
      "outputs": [
        {
          "output_type": "execute_result",
          "data": {
            "text/html": [
              "<div>\n",
              "<style scoped>\n",
              "    .dataframe tbody tr th:only-of-type {\n",
              "        vertical-align: middle;\n",
              "    }\n",
              "\n",
              "    .dataframe tbody tr th {\n",
              "        vertical-align: top;\n",
              "    }\n",
              "\n",
              "    .dataframe thead th {\n",
              "        text-align: right;\n",
              "    }\n",
              "</style>\n",
              "<table border=\"1\" class=\"dataframe\">\n",
              "  <thead>\n",
              "    <tr style=\"text-align: right;\">\n",
              "      <th></th>\n",
              "      <th>GOOG</th>\n",
              "      <th>AAPL</th>\n",
              "    </tr>\n",
              "  </thead>\n",
              "  <tbody>\n",
              "    <tr>\n",
              "      <th>2021-01-01</th>\n",
              "      <td>NaN</td>\n",
              "      <td>NaN</td>\n",
              "    </tr>\n",
              "    <tr>\n",
              "      <th>2021-01-02</th>\n",
              "      <td>NaN</td>\n",
              "      <td>NaN</td>\n",
              "    </tr>\n",
              "    <tr>\n",
              "      <th>2021-01-03</th>\n",
              "      <td>NaN</td>\n",
              "      <td>NaN</td>\n",
              "    </tr>\n",
              "    <tr>\n",
              "      <th>2021-01-04</th>\n",
              "      <td>1726.13</td>\n",
              "      <td>129.41</td>\n",
              "    </tr>\n",
              "    <tr>\n",
              "      <th>2021-01-05</th>\n",
              "      <td>1740.05</td>\n",
              "      <td>131.01</td>\n",
              "    </tr>\n",
              "    <tr>\n",
              "      <th>2021-01-06</th>\n",
              "      <td>1722.88</td>\n",
              "      <td>126.60</td>\n",
              "    </tr>\n",
              "    <tr>\n",
              "      <th>2021-01-07</th>\n",
              "      <td>1774.34</td>\n",
              "      <td>130.92</td>\n",
              "    </tr>\n",
              "    <tr>\n",
              "      <th>2021-01-08</th>\n",
              "      <td>1797.83</td>\n",
              "      <td>132.05</td>\n",
              "    </tr>\n",
              "    <tr>\n",
              "      <th>2021-01-09</th>\n",
              "      <td>NaN</td>\n",
              "      <td>NaN</td>\n",
              "    </tr>\n",
              "    <tr>\n",
              "      <th>2021-01-10</th>\n",
              "      <td>NaN</td>\n",
              "      <td>NaN</td>\n",
              "    </tr>\n",
              "    <tr>\n",
              "      <th>2021-01-11</th>\n",
              "      <td>1756.29</td>\n",
              "      <td>128.98</td>\n",
              "    </tr>\n",
              "    <tr>\n",
              "      <th>2021-01-12</th>\n",
              "      <td>1737.43</td>\n",
              "      <td>128.80</td>\n",
              "    </tr>\n",
              "    <tr>\n",
              "      <th>2021-01-13</th>\n",
              "      <td>1747.25</td>\n",
              "      <td>130.89</td>\n",
              "    </tr>\n",
              "    <tr>\n",
              "      <th>2021-01-14</th>\n",
              "      <td>1730.92</td>\n",
              "      <td>128.91</td>\n",
              "    </tr>\n",
              "    <tr>\n",
              "      <th>2021-01-15</th>\n",
              "      <td>1727.62</td>\n",
              "      <td>127.14</td>\n",
              "    </tr>\n",
              "    <tr>\n",
              "      <th>2021-01-16</th>\n",
              "      <td>NaN</td>\n",
              "      <td>NaN</td>\n",
              "    </tr>\n",
              "    <tr>\n",
              "      <th>2021-01-17</th>\n",
              "      <td>NaN</td>\n",
              "      <td>NaN</td>\n",
              "    </tr>\n",
              "    <tr>\n",
              "      <th>2021-01-18</th>\n",
              "      <td>NaN</td>\n",
              "      <td>NaN</td>\n",
              "    </tr>\n",
              "    <tr>\n",
              "      <th>2021-01-19</th>\n",
              "      <td>1784.47</td>\n",
              "      <td>127.83</td>\n",
              "    </tr>\n",
              "    <tr>\n",
              "      <th>2021-01-20</th>\n",
              "      <td>1880.07</td>\n",
              "      <td>132.03</td>\n",
              "    </tr>\n",
              "  </tbody>\n",
              "</table>\n",
              "</div>"
            ],
            "text/plain": [
              "               GOOG    AAPL\n",
              "2021-01-01      NaN     NaN\n",
              "2021-01-02      NaN     NaN\n",
              "2021-01-03      NaN     NaN\n",
              "2021-01-04  1726.13  129.41\n",
              "2021-01-05  1740.05  131.01\n",
              "2021-01-06  1722.88  126.60\n",
              "2021-01-07  1774.34  130.92\n",
              "2021-01-08  1797.83  132.05\n",
              "2021-01-09      NaN     NaN\n",
              "2021-01-10      NaN     NaN\n",
              "2021-01-11  1756.29  128.98\n",
              "2021-01-12  1737.43  128.80\n",
              "2021-01-13  1747.25  130.89\n",
              "2021-01-14  1730.92  128.91\n",
              "2021-01-15  1727.62  127.14\n",
              "2021-01-16      NaN     NaN\n",
              "2021-01-17      NaN     NaN\n",
              "2021-01-18      NaN     NaN\n",
              "2021-01-19  1784.47  127.83\n",
              "2021-01-20  1880.07  132.03"
            ]
          },
          "metadata": {
            "tags": []
          },
          "execution_count": 14
        }
      ]
    },
    {
      "cell_type": "markdown",
      "metadata": {
        "id": "Ekim2k8F-6CF"
      },
      "source": [
        "### **STEP II : DATA WRANGLING AND VISUALIZATION** "
      ]
    },
    {
      "cell_type": "code",
      "metadata": {
        "colab": {
          "base_uri": "https://localhost:8080/",
          "height": 423
        },
        "id": "FXb9IIJM-5aT",
        "outputId": "f3a1eaf9-b82f-479f-f01d-95c24df69685"
      },
      "source": [
        "SelectedDta = ScalableMarketDf['2017-01-01':'2020-12-31'][['GOOG','AAPL']]\r\n",
        "SelectedDta"
      ],
      "execution_count": 15,
      "outputs": [
        {
          "output_type": "execute_result",
          "data": {
            "text/html": [
              "<div>\n",
              "<style scoped>\n",
              "    .dataframe tbody tr th:only-of-type {\n",
              "        vertical-align: middle;\n",
              "    }\n",
              "\n",
              "    .dataframe tbody tr th {\n",
              "        vertical-align: top;\n",
              "    }\n",
              "\n",
              "    .dataframe thead th {\n",
              "        text-align: right;\n",
              "    }\n",
              "</style>\n",
              "<table border=\"1\" class=\"dataframe\">\n",
              "  <thead>\n",
              "    <tr style=\"text-align: right;\">\n",
              "      <th></th>\n",
              "      <th>GOOG</th>\n",
              "      <th>AAPL</th>\n",
              "    </tr>\n",
              "  </thead>\n",
              "  <tbody>\n",
              "    <tr>\n",
              "      <th>2017-01-01</th>\n",
              "      <td>NaN</td>\n",
              "      <td>NaN</td>\n",
              "    </tr>\n",
              "    <tr>\n",
              "      <th>2017-01-02</th>\n",
              "      <td>NaN</td>\n",
              "      <td>NaN</td>\n",
              "    </tr>\n",
              "    <tr>\n",
              "      <th>2017-01-03</th>\n",
              "      <td>808.01</td>\n",
              "      <td>27.503</td>\n",
              "    </tr>\n",
              "    <tr>\n",
              "      <th>2017-01-04</th>\n",
              "      <td>807.77</td>\n",
              "      <td>27.473</td>\n",
              "    </tr>\n",
              "    <tr>\n",
              "      <th>2017-01-05</th>\n",
              "      <td>813.02</td>\n",
              "      <td>27.614</td>\n",
              "    </tr>\n",
              "    <tr>\n",
              "      <th>...</th>\n",
              "      <td>...</td>\n",
              "      <td>...</td>\n",
              "    </tr>\n",
              "    <tr>\n",
              "      <th>2020-12-27</th>\n",
              "      <td>NaN</td>\n",
              "      <td>NaN</td>\n",
              "    </tr>\n",
              "    <tr>\n",
              "      <th>2020-12-28</th>\n",
              "      <td>1773.96</td>\n",
              "      <td>136.690</td>\n",
              "    </tr>\n",
              "    <tr>\n",
              "      <th>2020-12-29</th>\n",
              "      <td>1757.76</td>\n",
              "      <td>134.870</td>\n",
              "    </tr>\n",
              "    <tr>\n",
              "      <th>2020-12-30</th>\n",
              "      <td>1736.25</td>\n",
              "      <td>133.720</td>\n",
              "    </tr>\n",
              "    <tr>\n",
              "      <th>2020-12-31</th>\n",
              "      <td>1752.64</td>\n",
              "      <td>132.690</td>\n",
              "    </tr>\n",
              "  </tbody>\n",
              "</table>\n",
              "<p>1461 rows × 2 columns</p>\n",
              "</div>"
            ],
            "text/plain": [
              "               GOOG     AAPL\n",
              "2017-01-01      NaN      NaN\n",
              "2017-01-02      NaN      NaN\n",
              "2017-01-03   808.01   27.503\n",
              "2017-01-04   807.77   27.473\n",
              "2017-01-05   813.02   27.614\n",
              "...             ...      ...\n",
              "2020-12-27      NaN      NaN\n",
              "2020-12-28  1773.96  136.690\n",
              "2020-12-29  1757.76  134.870\n",
              "2020-12-30  1736.25  133.720\n",
              "2020-12-31  1752.64  132.690\n",
              "\n",
              "[1461 rows x 2 columns]"
            ]
          },
          "metadata": {
            "tags": []
          },
          "execution_count": 15
        }
      ]
    },
    {
      "cell_type": "markdown",
      "metadata": {
        "id": "3SYeRflgGRL9"
      },
      "source": [
        "In our data, there is two sources of missing values, the first one comes from days when Stock markets are closed, including weed-ends, public holidays, etc. Second is related to disponible records of each stock in a time window.\r\n",
        "\r\n",
        "When handling missing value, in our case, we should pay attention, to not affect some estimations like means, medians or variances. So, I think that it is more safe to drop missing values when dealing with stocks individualy."
      ]
    },
    {
      "cell_type": "code",
      "metadata": {
        "colab": {
          "base_uri": "https://localhost:8080/",
          "height": 429
        },
        "id": "zcRpPKOCGPMd",
        "outputId": "b1b1c18b-7ec0-4768-b556-76bf0edba74a"
      },
      "source": [
        "#Dropping missing values\r\n",
        "\r\n",
        "SelectedDta = SelectedDta.dropna()\r\n",
        "\r\n",
        "#Stocks prices plotting \r\n",
        "\r\n",
        "SelectedDta.plot(figsize = (14,7))"
      ],
      "execution_count": 16,
      "outputs": [
        {
          "output_type": "execute_result",
          "data": {
            "text/plain": [
              "<matplotlib.axes._subplots.AxesSubplot at 0x7f2e37be0198>"
            ]
          },
          "metadata": {
            "tags": []
          },
          "execution_count": 16
        },
        {
          "output_type": "display_data",
          "data": {
            "image/png": "[encoded data removed]",
            "text/plain": [
              "<Figure size 1008x504 with 1 Axes>"
            ]
          },
          "metadata": {
            "tags": [],
            "needs_background": "light"
          }
        }
      ]
    },
    {
      "cell_type": "markdown",
      "metadata": {
        "id": "0M8q_8eyDLdh"
      },
      "source": [
        "### **STEP III : GET TO KNOW DATA** "
      ]
    },
    {
      "cell_type": "code",
      "metadata": {
        "colab": {
          "base_uri": "https://localhost:8080/",
          "height": 423
        },
        "id": "f6dZW9TfSbnP",
        "outputId": "4891e413-669a-4131-e903-50957130401e"
      },
      "source": [
        "Returns = np.log(SelectedDta/SelectedDta.shift(1))\r\n",
        "Returns"
      ],
      "execution_count": 17,
      "outputs": [
        {
          "output_type": "execute_result",
          "data": {
            "text/html": [
              "<div>\n",
              "<style scoped>\n",
              "    .dataframe tbody tr th:only-of-type {\n",
              "        vertical-align: middle;\n",
              "    }\n",
              "\n",
              "    .dataframe tbody tr th {\n",
              "        vertical-align: top;\n",
              "    }\n",
              "\n",
              "    .dataframe thead th {\n",
              "        text-align: right;\n",
              "    }\n",
              "</style>\n",
              "<table border=\"1\" class=\"dataframe\">\n",
              "  <thead>\n",
              "    <tr style=\"text-align: right;\">\n",
              "      <th></th>\n",
              "      <th>GOOG</th>\n",
              "      <th>AAPL</th>\n",
              "    </tr>\n",
              "  </thead>\n",
              "  <tbody>\n",
              "    <tr>\n",
              "      <th>2017-01-03</th>\n",
              "      <td>NaN</td>\n",
              "      <td>NaN</td>\n",
              "    </tr>\n",
              "    <tr>\n",
              "      <th>2017-01-04</th>\n",
              "      <td>-0.000297</td>\n",
              "      <td>-0.001091</td>\n",
              "    </tr>\n",
              "    <tr>\n",
              "      <th>2017-01-05</th>\n",
              "      <td>0.006478</td>\n",
              "      <td>0.005119</td>\n",
              "    </tr>\n",
              "    <tr>\n",
              "      <th>2017-01-06</th>\n",
              "      <td>0.014882</td>\n",
              "      <td>0.010913</td>\n",
              "    </tr>\n",
              "    <tr>\n",
              "      <th>2017-01-09</th>\n",
              "      <td>0.002384</td>\n",
              "      <td>0.009128</td>\n",
              "    </tr>\n",
              "    <tr>\n",
              "      <th>...</th>\n",
              "      <td>...</td>\n",
              "      <td>...</td>\n",
              "    </tr>\n",
              "    <tr>\n",
              "      <th>2020-12-24</th>\n",
              "      <td>0.003425</td>\n",
              "      <td>0.007683</td>\n",
              "    </tr>\n",
              "    <tr>\n",
              "      <th>2020-12-28</th>\n",
              "      <td>0.022691</td>\n",
              "      <td>0.035141</td>\n",
              "    </tr>\n",
              "    <tr>\n",
              "      <th>2020-12-29</th>\n",
              "      <td>-0.009174</td>\n",
              "      <td>-0.013404</td>\n",
              "    </tr>\n",
              "    <tr>\n",
              "      <th>2020-12-30</th>\n",
              "      <td>-0.012313</td>\n",
              "      <td>-0.008563</td>\n",
              "    </tr>\n",
              "    <tr>\n",
              "      <th>2020-12-31</th>\n",
              "      <td>0.009396</td>\n",
              "      <td>-0.007732</td>\n",
              "    </tr>\n",
              "  </tbody>\n",
              "</table>\n",
              "<p>1007 rows × 2 columns</p>\n",
              "</div>"
            ],
            "text/plain": [
              "                GOOG      AAPL\n",
              "2017-01-03       NaN       NaN\n",
              "2017-01-04 -0.000297 -0.001091\n",
              "2017-01-05  0.006478  0.005119\n",
              "2017-01-06  0.014882  0.010913\n",
              "2017-01-09  0.002384  0.009128\n",
              "...              ...       ...\n",
              "2020-12-24  0.003425  0.007683\n",
              "2020-12-28  0.022691  0.035141\n",
              "2020-12-29 -0.009174 -0.013404\n",
              "2020-12-30 -0.012313 -0.008563\n",
              "2020-12-31  0.009396 -0.007732\n",
              "\n",
              "[1007 rows x 2 columns]"
            ]
          },
          "metadata": {
            "tags": []
          },
          "execution_count": 17
        }
      ]
    },
    {
      "cell_type": "code",
      "metadata": {
        "colab": {
          "base_uri": "https://localhost:8080/"
        },
        "id": "716s-OtdY-a-",
        "outputId": "cdceff8a-9c60-418d-c58c-62fec0b11812"
      },
      "source": [
        "#Mean of daily returns\r\n",
        "\r\n",
        "ReturnsMean = Returns.mean(axis = 0)\r\n",
        "ReturnsMean"
      ],
      "execution_count": 18,
      "outputs": [
        {
          "output_type": "execute_result",
          "data": {
            "text/plain": [
              "GOOG    0.000770\n",
              "AAPL    0.001564\n",
              "dtype: float64"
            ]
          },
          "metadata": {
            "tags": []
          },
          "execution_count": 18
        }
      ]
    },
    {
      "cell_type": "code",
      "metadata": {
        "colab": {
          "base_uri": "https://localhost:8080/"
        },
        "id": "Z0NbFNRjESlo",
        "outputId": "1facea98-dfad-4191-a220-8fc23aad8882"
      },
      "source": [
        "#Standard deviation of daily returns\r\n",
        "\r\n",
        "#Without covariance values\r\n",
        "\r\n",
        "ReturnsStd = Returns.std(axis = 0)\r\n",
        "ReturnsStd"
      ],
      "execution_count": 19,
      "outputs": [
        {
          "output_type": "execute_result",
          "data": {
            "text/plain": [
              "GOOG    0.017482\n",
              "AAPL    0.019962\n",
              "dtype: float64"
            ]
          },
          "metadata": {
            "tags": []
          },
          "execution_count": 19
        }
      ]
    },
    {
      "cell_type": "code",
      "metadata": {
        "colab": {
          "base_uri": "https://localhost:8080/",
          "height": 112
        },
        "id": "99dE-T8hbhNS",
        "outputId": "88ef1fa1-a459-4d58-9f7f-4b0a41ad18f7"
      },
      "source": [
        "#Standard deviation of daily returns\r\n",
        "\r\n",
        "#With covariance values\r\n",
        "\r\n",
        "ReturnsStdM = np.sqrt(Returns.cov())\r\n",
        "ReturnsStdM"
      ],
      "execution_count": 20,
      "outputs": [
        {
          "output_type": "execute_result",
          "data": {
            "text/html": [
              "<div>\n",
              "<style scoped>\n",
              "    .dataframe tbody tr th:only-of-type {\n",
              "        vertical-align: middle;\n",
              "    }\n",
              "\n",
              "    .dataframe tbody tr th {\n",
              "        vertical-align: top;\n",
              "    }\n",
              "\n",
              "    .dataframe thead th {\n",
              "        text-align: right;\n",
              "    }\n",
              "</style>\n",
              "<table border=\"1\" class=\"dataframe\">\n",
              "  <thead>\n",
              "    <tr style=\"text-align: right;\">\n",
              "      <th></th>\n",
              "      <th>GOOG</th>\n",
              "      <th>AAPL</th>\n",
              "    </tr>\n",
              "  </thead>\n",
              "  <tbody>\n",
              "    <tr>\n",
              "      <th>GOOG</th>\n",
              "      <td>0.017482</td>\n",
              "      <td>0.015413</td>\n",
              "    </tr>\n",
              "    <tr>\n",
              "      <th>AAPL</th>\n",
              "      <td>0.015413</td>\n",
              "      <td>0.019962</td>\n",
              "    </tr>\n",
              "  </tbody>\n",
              "</table>\n",
              "</div>"
            ],
            "text/plain": [
              "          GOOG      AAPL\n",
              "GOOG  0.017482  0.015413\n",
              "AAPL  0.015413  0.019962"
            ]
          },
          "metadata": {
            "tags": []
          },
          "execution_count": 20
        }
      ]
    },
    {
      "cell_type": "markdown",
      "metadata": {
        "id": "nGSOWi_Jro5z"
      },
      "source": [
        "The average number of trading days for U.S. markets is about **252 days**"
      ]
    },
    {
      "cell_type": "code",
      "metadata": {
        "id": "W3sdNR6JE44G"
      },
      "source": [
        "#Setting period at 252\r\n",
        "T = 252"
      ],
      "execution_count": 21,
      "outputs": []
    },
    {
      "cell_type": "code",
      "metadata": {
        "colab": {
          "base_uri": "https://localhost:8080/"
        },
        "id": "K_ZINwvjbyXk",
        "outputId": "241b6b9e-56dd-4b69-c536-678d2ad47e0a"
      },
      "source": [
        "#Annualized means\r\n",
        "\r\n",
        "AnnReturnsMean = ((ReturnsMean + 1)**T) - 1\r\n",
        "AnnReturnsMean"
      ],
      "execution_count": 22,
      "outputs": [
        {
          "output_type": "execute_result",
          "data": {
            "text/plain": [
              "GOOG    0.213958\n",
              "AAPL    0.482759\n",
              "dtype: float64"
            ]
          },
          "metadata": {
            "tags": []
          },
          "execution_count": 22
        }
      ]
    },
    {
      "cell_type": "code",
      "metadata": {
        "colab": {
          "base_uri": "https://localhost:8080/"
        },
        "id": "G-mlAhCBsVZh",
        "outputId": "346521f6-9acb-49b8-f3f7-1ab48e8ad108"
      },
      "source": [
        "#Annualized standard deviations\r\n",
        "\r\n",
        "AnnReturnsStd = ReturnsStd*np.sqrt(T)\r\n",
        "AnnReturnsStd\r\n"
      ],
      "execution_count": 23,
      "outputs": [
        {
          "output_type": "execute_result",
          "data": {
            "text/plain": [
              "GOOG    0.277514\n",
              "AAPL    0.316894\n",
              "dtype: float64"
            ]
          },
          "metadata": {
            "tags": []
          },
          "execution_count": 23
        }
      ]
    },
    {
      "cell_type": "code",
      "metadata": {
        "colab": {
          "base_uri": "https://localhost:8080/",
          "height": 112
        },
        "id": "o9eMdgANE4AM",
        "outputId": "69905fb9-c961-47ec-e65d-a99426504edf"
      },
      "source": [
        "AnnReturnsStdM = ReturnsStdM*np.sqrt(T)\r\n",
        "AnnReturnsStdM"
      ],
      "execution_count": 24,
      "outputs": [
        {
          "output_type": "execute_result",
          "data": {
            "text/html": [
              "<div>\n",
              "<style scoped>\n",
              "    .dataframe tbody tr th:only-of-type {\n",
              "        vertical-align: middle;\n",
              "    }\n",
              "\n",
              "    .dataframe tbody tr th {\n",
              "        vertical-align: top;\n",
              "    }\n",
              "\n",
              "    .dataframe thead th {\n",
              "        text-align: right;\n",
              "    }\n",
              "</style>\n",
              "<table border=\"1\" class=\"dataframe\">\n",
              "  <thead>\n",
              "    <tr style=\"text-align: right;\">\n",
              "      <th></th>\n",
              "      <th>GOOG</th>\n",
              "      <th>AAPL</th>\n",
              "    </tr>\n",
              "  </thead>\n",
              "  <tbody>\n",
              "    <tr>\n",
              "      <th>GOOG</th>\n",
              "      <td>0.277514</td>\n",
              "      <td>0.244667</td>\n",
              "    </tr>\n",
              "    <tr>\n",
              "      <th>AAPL</th>\n",
              "      <td>0.244667</td>\n",
              "      <td>0.316894</td>\n",
              "    </tr>\n",
              "  </tbody>\n",
              "</table>\n",
              "</div>"
            ],
            "text/plain": [
              "          GOOG      AAPL\n",
              "GOOG  0.277514  0.244667\n",
              "AAPL  0.244667  0.316894"
            ]
          },
          "metadata": {
            "tags": []
          },
          "execution_count": 24
        }
      ]
    },
    {
      "cell_type": "markdown",
      "metadata": {
        "id": "c04iOGD8zVoB"
      },
      "source": [
        "To build interval confident of metrics computed from returns distribution, let us assume that returns of each stock are independant and normally distributed. "
      ]
    },
    {
      "cell_type": "code",
      "metadata": {
        "id": "0Sc6-CAnzl2N"
      },
      "source": [
        "#Confidence Interval Building for metrics\r\n",
        "\r\n",
        "N = len(Returns)\r\n",
        "alpha = 1 - 0.10/2 \r\n",
        "Tstudent = t.ppf(alpha, N-1)\r\n",
        "ChisqInf = chi2.ppf(alpha, N-1)\r\n",
        "ChisqSup = chi2.ppf(1 - alpha, N-1)\r\n",
        "\r\n",
        "#Mean\r\n",
        "\r\n",
        "BornInfMean = ReturnsMean - (Tstudent*ReturnsStd)/np.sqrt(N-1)\r\n",
        "BornSupMean = ReturnsMean + (Tstudent*ReturnsStd)/np.sqrt(N-1)\r\n",
        "\r\n",
        "ConfIntMean = pd.concat([ReturnsMean,BornInfMean,BornSupMean], axis=1)\r\n",
        "ConfIntMean.columns = ['ReturnsMean','BornInfMean','BornSupMean']\r\n",
        "\r\n",
        "\r\n",
        "#Standard deviation\r\n",
        "\r\n",
        "BornInfSd = np.sqrt( (N*ReturnsStd**2)/ChisqInf )\r\n",
        "BornSupSd = np.sqrt( (N*ReturnsStd**2)/ChisqSup )\r\n",
        "\r\n",
        "ConfIntSd = pd.concat([ReturnsStd,BornInfSd,BornSupSd], axis=1)\r\n",
        "ConfIntSd.columns = ['ReturnsStd','BornInfSd','BornSupSd']\r\n",
        "\r\n",
        "\r\n",
        "#Confidence Interval Building for Annualize metrics\r\n",
        "\r\n",
        "\r\n",
        "#Annualized Mean\r\n",
        "\r\n",
        "ConfIntAnnMean =  ConfIntMean*T\r\n",
        "ConfIntAnnMean.columns = ['AnnReturnsMean','BornInfSd','BornSupSd']\r\n",
        "\r\n",
        "#Annualized standard deviation\r\n",
        "\r\n",
        "ConfIntAnnSd = ConfIntSd*np.sqrt(T)\r\n",
        "ConfIntAnnSd.columns = ['AnnReturnsStd','BornInfSd','BornSupSd']"
      ],
      "execution_count": 25,
      "outputs": []
    },
    {
      "cell_type": "code",
      "metadata": {
        "colab": {
          "base_uri": "https://localhost:8080/",
          "height": 112
        },
        "id": "OMzWMvnIuEDV",
        "outputId": "adad1594-566d-48f1-d615-c0b57d8479f0"
      },
      "source": [
        "ConfIntMean"
      ],
      "execution_count": 26,
      "outputs": [
        {
          "output_type": "execute_result",
          "data": {
            "text/html": [
              "<div>\n",
              "<style scoped>\n",
              "    .dataframe tbody tr th:only-of-type {\n",
              "        vertical-align: middle;\n",
              "    }\n",
              "\n",
              "    .dataframe tbody tr th {\n",
              "        vertical-align: top;\n",
              "    }\n",
              "\n",
              "    .dataframe thead th {\n",
              "        text-align: right;\n",
              "    }\n",
              "</style>\n",
              "<table border=\"1\" class=\"dataframe\">\n",
              "  <thead>\n",
              "    <tr style=\"text-align: right;\">\n",
              "      <th></th>\n",
              "      <th>ReturnsMean</th>\n",
              "      <th>BornInfMean</th>\n",
              "      <th>BornSupMean</th>\n",
              "    </tr>\n",
              "  </thead>\n",
              "  <tbody>\n",
              "    <tr>\n",
              "      <th>GOOG</th>\n",
              "      <td>0.000770</td>\n",
              "      <td>-0.000138</td>\n",
              "      <td>0.001677</td>\n",
              "    </tr>\n",
              "    <tr>\n",
              "      <th>AAPL</th>\n",
              "      <td>0.001564</td>\n",
              "      <td>0.000528</td>\n",
              "      <td>0.002601</td>\n",
              "    </tr>\n",
              "  </tbody>\n",
              "</table>\n",
              "</div>"
            ],
            "text/plain": [
              "      ReturnsMean  BornInfMean  BornSupMean\n",
              "GOOG     0.000770    -0.000138     0.001677\n",
              "AAPL     0.001564     0.000528     0.002601"
            ]
          },
          "metadata": {
            "tags": []
          },
          "execution_count": 26
        }
      ]
    },
    {
      "cell_type": "code",
      "metadata": {
        "colab": {
          "base_uri": "https://localhost:8080/",
          "height": 112
        },
        "id": "JuTfk5aHuHjZ",
        "outputId": "15f6a442-aa5a-4dd0-a8ad-a6b845b2dac4"
      },
      "source": [
        "ConfIntSd"
      ],
      "execution_count": 27,
      "outputs": [
        {
          "output_type": "execute_result",
          "data": {
            "text/html": [
              "<div>\n",
              "<style scoped>\n",
              "    .dataframe tbody tr th:only-of-type {\n",
              "        vertical-align: middle;\n",
              "    }\n",
              "\n",
              "    .dataframe tbody tr th {\n",
              "        vertical-align: top;\n",
              "    }\n",
              "\n",
              "    .dataframe thead th {\n",
              "        text-align: right;\n",
              "    }\n",
              "</style>\n",
              "<table border=\"1\" class=\"dataframe\">\n",
              "  <thead>\n",
              "    <tr style=\"text-align: right;\">\n",
              "      <th></th>\n",
              "      <th>ReturnsStd</th>\n",
              "      <th>BornInfSd</th>\n",
              "      <th>BornSupSd</th>\n",
              "    </tr>\n",
              "  </thead>\n",
              "  <tbody>\n",
              "    <tr>\n",
              "      <th>GOOG</th>\n",
              "      <td>0.017482</td>\n",
              "      <td>0.016874</td>\n",
              "      <td>0.018158</td>\n",
              "    </tr>\n",
              "    <tr>\n",
              "      <th>AAPL</th>\n",
              "      <td>0.019962</td>\n",
              "      <td>0.019268</td>\n",
              "      <td>0.020735</td>\n",
              "    </tr>\n",
              "  </tbody>\n",
              "</table>\n",
              "</div>"
            ],
            "text/plain": [
              "      ReturnsStd  BornInfSd  BornSupSd\n",
              "GOOG    0.017482   0.016874   0.018158\n",
              "AAPL    0.019962   0.019268   0.020735"
            ]
          },
          "metadata": {
            "tags": []
          },
          "execution_count": 27
        }
      ]
    },
    {
      "cell_type": "code",
      "metadata": {
        "colab": {
          "base_uri": "https://localhost:8080/",
          "height": 112
        },
        "id": "Tmwp4oQfuKg-",
        "outputId": "f864523d-0816-4405-e8f4-e2860219317a"
      },
      "source": [
        "ConfIntAnnMean"
      ],
      "execution_count": 28,
      "outputs": [
        {
          "output_type": "execute_result",
          "data": {
            "text/html": [
              "<div>\n",
              "<style scoped>\n",
              "    .dataframe tbody tr th:only-of-type {\n",
              "        vertical-align: middle;\n",
              "    }\n",
              "\n",
              "    .dataframe tbody tr th {\n",
              "        vertical-align: top;\n",
              "    }\n",
              "\n",
              "    .dataframe thead th {\n",
              "        text-align: right;\n",
              "    }\n",
              "</style>\n",
              "<table border=\"1\" class=\"dataframe\">\n",
              "  <thead>\n",
              "    <tr style=\"text-align: right;\">\n",
              "      <th></th>\n",
              "      <th>AnnReturnsMean</th>\n",
              "      <th>BornInfSd</th>\n",
              "      <th>BornSupSd</th>\n",
              "    </tr>\n",
              "  </thead>\n",
              "  <tbody>\n",
              "    <tr>\n",
              "      <th>GOOG</th>\n",
              "      <td>0.193961</td>\n",
              "      <td>-0.034711</td>\n",
              "      <td>0.422633</td>\n",
              "    </tr>\n",
              "    <tr>\n",
              "      <th>AAPL</th>\n",
              "      <td>0.394212</td>\n",
              "      <td>0.133091</td>\n",
              "      <td>0.655334</td>\n",
              "    </tr>\n",
              "  </tbody>\n",
              "</table>\n",
              "</div>"
            ],
            "text/plain": [
              "      AnnReturnsMean  BornInfSd  BornSupSd\n",
              "GOOG        0.193961  -0.034711   0.422633\n",
              "AAPL        0.394212   0.133091   0.655334"
            ]
          },
          "metadata": {
            "tags": []
          },
          "execution_count": 28
        }
      ]
    },
    {
      "cell_type": "code",
      "metadata": {
        "colab": {
          "base_uri": "https://localhost:8080/",
          "height": 112
        },
        "id": "5oQwVsjKuMrN",
        "outputId": "6e32679d-d290-4bc8-ed13-2ee9374630c3"
      },
      "source": [
        "ConfIntAnnSd"
      ],
      "execution_count": 29,
      "outputs": [
        {
          "output_type": "execute_result",
          "data": {
            "text/html": [
              "<div>\n",
              "<style scoped>\n",
              "    .dataframe tbody tr th:only-of-type {\n",
              "        vertical-align: middle;\n",
              "    }\n",
              "\n",
              "    .dataframe tbody tr th {\n",
              "        vertical-align: top;\n",
              "    }\n",
              "\n",
              "    .dataframe thead th {\n",
              "        text-align: right;\n",
              "    }\n",
              "</style>\n",
              "<table border=\"1\" class=\"dataframe\">\n",
              "  <thead>\n",
              "    <tr style=\"text-align: right;\">\n",
              "      <th></th>\n",
              "      <th>AnnReturnsStd</th>\n",
              "      <th>BornInfSd</th>\n",
              "      <th>BornSupSd</th>\n",
              "    </tr>\n",
              "  </thead>\n",
              "  <tbody>\n",
              "    <tr>\n",
              "      <th>GOOG</th>\n",
              "      <td>0.277514</td>\n",
              "      <td>0.267859</td>\n",
              "      <td>0.288251</td>\n",
              "    </tr>\n",
              "    <tr>\n",
              "      <th>AAPL</th>\n",
              "      <td>0.316894</td>\n",
              "      <td>0.305869</td>\n",
              "      <td>0.329155</td>\n",
              "    </tr>\n",
              "  </tbody>\n",
              "</table>\n",
              "</div>"
            ],
            "text/plain": [
              "      AnnReturnsStd  BornInfSd  BornSupSd\n",
              "GOOG       0.277514   0.267859   0.288251\n",
              "AAPL       0.316894   0.305869   0.329155"
            ]
          },
          "metadata": {
            "tags": []
          },
          "execution_count": 29
        }
      ]
    },
    {
      "cell_type": "code",
      "metadata": {
        "colab": {
          "base_uri": "https://localhost:8080/"
        },
        "id": "Kgn2779yxz_i",
        "outputId": "e6af4f00-5241-452b-a8f7-e52311ce1913"
      },
      "source": [
        "#Monthly value of stocks investment\r\n",
        "\r\n",
        "MonthlyValue = AnnReturnsMean*50/12\r\n",
        "MonthlyValue"
      ],
      "execution_count": 30,
      "outputs": [
        {
          "output_type": "execute_result",
          "data": {
            "text/plain": [
              "GOOG    0.891492\n",
              "AAPL    2.011494\n",
              "dtype: float64"
            ]
          },
          "metadata": {
            "tags": []
          },
          "execution_count": 30
        }
      ]
    },
    {
      "cell_type": "code",
      "metadata": {
        "colab": {
          "base_uri": "https://localhost:8080/",
          "height": 447
        },
        "id": "KIbIBGa6zNxs",
        "outputId": "aeda3f53-fb67-4296-c1e0-2ece4a2cd1f6"
      },
      "source": [
        "#Comparaison of stocks return distribution\r\n",
        "Returns.plot.density(figsize = (14,7))"
      ],
      "execution_count": 31,
      "outputs": [
        {
          "output_type": "execute_result",
          "data": {
            "text/plain": [
              "<matplotlib.axes._subplots.AxesSubplot at 0x7f2e37ccbb38>"
            ]
          },
          "metadata": {
            "tags": []
          },
          "execution_count": 31
        },
        {
          "output_type": "display_data",
          "data": {
            "image/png": "[encoded data removed]",
            "text/plain": [
              "<Figure size 1008x504 with 1 Axes>"
            ]
          },
          "metadata": {
            "tags": [],
            "needs_background": "light"
          }
        }
      ]
    },
    {
      "cell_type": "markdown",
      "metadata": {
        "id": "nsT4xH_BBV_J"
      },
      "source": [
        "From the visualization of returns density of our Stocks, It seems that this two distributions have a long-tails, which means that we can't approach them  as a normal distributions. "
      ]
    },
    {
      "cell_type": "markdown",
      "metadata": {
        "id": "XeBbd-19C8EP"
      },
      "source": [
        "### **STEP IV : INVESTOR STRATEGIES SIMULATIONS** "
      ]
    },
    {
      "cell_type": "code",
      "metadata": {
        "colab": {
          "base_uri": "https://localhost:8080/",
          "height": 461
        },
        "id": "O8XxzXdc0pul",
        "outputId": "7e89bb7f-803f-4cea-f577-9818a036c465"
      },
      "source": [
        "#A vectorized simulation\r\n",
        "\r\n",
        "SimulationTrials = 1000\r\n",
        "\r\n",
        "HowManyStocks = len(Returns.columns)\r\n",
        "\r\n",
        "RandomDfNumbers = pd.DataFrame( data = np.random.rand(SimulationTrials,HowManyStocks) , columns = Returns.columns , ) \r\n",
        "\r\n",
        "Weights = RandomDfNumbers.div(RandomDfNumbers.sum(axis=1),axis = 0)\r\n",
        "\r\n",
        "\r\n",
        "\r\n",
        "PortfolioReturnTrials = Weights.dot(AnnReturnsMean) \r\n",
        "\r\n",
        "PortfolioStdTrials = (Weights.dot(AnnReturnsStdM)*Weights).sum(axis = 1)\r\n",
        "\r\n",
        "PortfolioTrials = pd.concat([PortfolioReturnTrials,PortfolioStdTrials], axis=1)\r\n",
        "PortfolioTrials.columns = ['PortfolioReturnTrials','PortfolioStdTrials']\r\n",
        "\r\n",
        "PortfolioTrials.plot.scatter(x = 'PortfolioStdTrials' , y = 'PortfolioReturnTrials', figsize = (14,7))\r\n",
        "\r\n"
      ],
      "execution_count": 32,
      "outputs": [
        {
          "output_type": "execute_result",
          "data": {
            "text/plain": [
              "<matplotlib.axes._subplots.AxesSubplot at 0x7f2e37dc6470>"
            ]
          },
          "metadata": {
            "tags": []
          },
          "execution_count": 32
        },
        {
          "output_type": "display_data",
          "data": {
            "image/png": "[encoded data removed]",
            "text/plain": [
              "<Figure size 1008x504 with 1 Axes>"
            ]
          },
          "metadata": {
            "tags": [],
            "needs_background": "light"
          }
        }
      ]
    },
    {
      "cell_type": "code",
      "metadata": {
        "colab": {
          "base_uri": "https://localhost:8080/",
          "height": 423
        },
        "id": "BRiIuGdwdNP8",
        "outputId": "79d45b0f-bf79-4acd-9aae-388332b2c3da"
      },
      "source": [
        "PorfolioMinStdIndex = PortfolioTrials.idxmin()['PortfolioStdTrials']\r\n",
        "PorfolioMinReturn   = PortfolioTrials.loc[PorfolioMinStdIndex]['PortfolioReturnTrials']\r\n",
        "PorfolioMinStd      = PortfolioTrials.loc[PorfolioMinStdIndex]['PortfolioStdTrials']\r\n",
        "\r\n",
        "\r\n",
        "EfficientPortfolios = PortfolioTrials[ PortfolioTrials['PortfolioReturnTrials'] >= PorfolioMinReturn]\r\n",
        "EfficientPortfolios = EfficientPortfolios.sort_values('PortfolioReturnTrials')\r\n",
        "EfficientPortfolios"
      ],
      "execution_count": 33,
      "outputs": [
        {
          "output_type": "execute_result",
          "data": {
            "text/html": [
              "<div>\n",
              "<style scoped>\n",
              "    .dataframe tbody tr th:only-of-type {\n",
              "        vertical-align: middle;\n",
              "    }\n",
              "\n",
              "    .dataframe tbody tr th {\n",
              "        vertical-align: top;\n",
              "    }\n",
              "\n",
              "    .dataframe thead th {\n",
              "        text-align: right;\n",
              "    }\n",
              "</style>\n",
              "<table border=\"1\" class=\"dataframe\">\n",
              "  <thead>\n",
              "    <tr style=\"text-align: right;\">\n",
              "      <th></th>\n",
              "      <th>PortfolioReturnTrials</th>\n",
              "      <th>PortfolioStdTrials</th>\n",
              "    </tr>\n",
              "  </thead>\n",
              "  <tbody>\n",
              "    <tr>\n",
              "      <th>547</th>\n",
              "      <td>0.298084</td>\n",
              "      <td>0.267246</td>\n",
              "    </tr>\n",
              "    <tr>\n",
              "      <th>55</th>\n",
              "      <td>0.298224</td>\n",
              "      <td>0.267246</td>\n",
              "    </tr>\n",
              "    <tr>\n",
              "      <th>975</th>\n",
              "      <td>0.298467</td>\n",
              "      <td>0.267246</td>\n",
              "    </tr>\n",
              "    <tr>\n",
              "      <th>852</th>\n",
              "      <td>0.298595</td>\n",
              "      <td>0.267246</td>\n",
              "    </tr>\n",
              "    <tr>\n",
              "      <th>310</th>\n",
              "      <td>0.299436</td>\n",
              "      <td>0.267249</td>\n",
              "    </tr>\n",
              "    <tr>\n",
              "      <th>...</th>\n",
              "      <td>...</td>\n",
              "      <td>...</td>\n",
              "    </tr>\n",
              "    <tr>\n",
              "      <th>536</th>\n",
              "      <td>0.481247</td>\n",
              "      <td>0.316085</td>\n",
              "    </tr>\n",
              "    <tr>\n",
              "      <th>992</th>\n",
              "      <td>0.481552</td>\n",
              "      <td>0.316247</td>\n",
              "    </tr>\n",
              "    <tr>\n",
              "      <th>151</th>\n",
              "      <td>0.481819</td>\n",
              "      <td>0.316390</td>\n",
              "    </tr>\n",
              "    <tr>\n",
              "      <th>993</th>\n",
              "      <td>0.481949</td>\n",
              "      <td>0.316460</td>\n",
              "    </tr>\n",
              "    <tr>\n",
              "      <th>21</th>\n",
              "      <td>0.482062</td>\n",
              "      <td>0.316520</td>\n",
              "    </tr>\n",
              "  </tbody>\n",
              "</table>\n",
              "<p>774 rows × 2 columns</p>\n",
              "</div>"
            ],
            "text/plain": [
              "     PortfolioReturnTrials  PortfolioStdTrials\n",
              "547               0.298084            0.267246\n",
              "55                0.298224            0.267246\n",
              "975               0.298467            0.267246\n",
              "852               0.298595            0.267246\n",
              "310               0.299436            0.267249\n",
              "..                     ...                 ...\n",
              "536               0.481247            0.316085\n",
              "992               0.481552            0.316247\n",
              "151               0.481819            0.316390\n",
              "993               0.481949            0.316460\n",
              "21                0.482062            0.316520\n",
              "\n",
              "[774 rows x 2 columns]"
            ]
          },
          "metadata": {
            "tags": []
          },
          "execution_count": 33
        }
      ]
    },
    {
      "cell_type": "code",
      "metadata": {
        "colab": {
          "base_uri": "https://localhost:8080/",
          "height": 442
        },
        "id": "QD2mpHzjy6B_",
        "outputId": "7580fe35-4f45-4abf-e857-47b9bf43d672"
      },
      "source": [
        "#Visualizing efficient portfolios\r\n",
        "\r\n",
        "PlotFolio = PortfolioTrials.plot.scatter(x = 'PortfolioStdTrials' , y = 'PortfolioReturnTrials', figsize = (14,7))\r\n",
        "PlotEfficientFolio = EfficientPortfolios.plot.scatter(x = 'PortfolioStdTrials' , y = 'PortfolioReturnTrials',\r\n",
        "                                                      c = \"red\", figsize = (14,7), ax = PlotFolio)\r\n"
      ],
      "execution_count": 34,
      "outputs": [
        {
          "output_type": "display_data",
          "data": {
            "image/png": "[encoded data removed]",
            "text/plain": [
              "<Figure size 1008x504 with 1 Axes>"
            ]
          },
          "metadata": {
            "tags": [],
            "needs_background": "light"
          }
        }
      ]
    },
    {
      "cell_type": "code",
      "metadata": {
        "colab": {
          "base_uri": "https://localhost:8080/",
          "height": 206
        },
        "id": "fbAkE2mQsPpw",
        "outputId": "95d7d68e-7de1-4a95-e818-d599a2b5d2c0"
      },
      "source": [
        "#Combination are sorted from the less risky combination to the most risky one\r\n",
        "\r\n",
        "EfficientAssetCombinations = Weights.loc[EfficientPortfolios.index]\r\n",
        "\r\n",
        "#Bryan could choose of the combination on the top of this dataframe\r\n",
        "\r\n",
        "EfficientAssetCombinations.head()"
      ],
      "execution_count": 35,
      "outputs": [
        {
          "output_type": "execute_result",
          "data": {
            "text/html": [
              "<div>\n",
              "<style scoped>\n",
              "    .dataframe tbody tr th:only-of-type {\n",
              "        vertical-align: middle;\n",
              "    }\n",
              "\n",
              "    .dataframe tbody tr th {\n",
              "        vertical-align: top;\n",
              "    }\n",
              "\n",
              "    .dataframe thead th {\n",
              "        text-align: right;\n",
              "    }\n",
              "</style>\n",
              "<table border=\"1\" class=\"dataframe\">\n",
              "  <thead>\n",
              "    <tr style=\"text-align: right;\">\n",
              "      <th></th>\n",
              "      <th>GOOG</th>\n",
              "      <th>AAPL</th>\n",
              "    </tr>\n",
              "  </thead>\n",
              "  <tbody>\n",
              "    <tr>\n",
              "      <th>547</th>\n",
              "      <td>0.687033</td>\n",
              "      <td>0.312967</td>\n",
              "    </tr>\n",
              "    <tr>\n",
              "      <th>55</th>\n",
              "      <td>0.686511</td>\n",
              "      <td>0.313489</td>\n",
              "    </tr>\n",
              "    <tr>\n",
              "      <th>975</th>\n",
              "      <td>0.685607</td>\n",
              "      <td>0.314393</td>\n",
              "    </tr>\n",
              "    <tr>\n",
              "      <th>852</th>\n",
              "      <td>0.685133</td>\n",
              "      <td>0.314867</td>\n",
              "    </tr>\n",
              "    <tr>\n",
              "      <th>310</th>\n",
              "      <td>0.682004</td>\n",
              "      <td>0.317996</td>\n",
              "    </tr>\n",
              "  </tbody>\n",
              "</table>\n",
              "</div>"
            ],
            "text/plain": [
              "         GOOG      AAPL\n",
              "547  0.687033  0.312967\n",
              "55   0.686511  0.313489\n",
              "975  0.685607  0.314393\n",
              "852  0.685133  0.314867\n",
              "310  0.682004  0.317996"
            ]
          },
          "metadata": {
            "tags": []
          },
          "execution_count": 35
        }
      ]
    },
    {
      "cell_type": "code",
      "metadata": {
        "colab": {
          "base_uri": "https://localhost:8080/"
        },
        "id": "de4BKGldR5kK",
        "outputId": "7f9cbed0-f4f5-4d36-d4dc-ddd4c0678cd8"
      },
      "source": [
        "BryanAllocation = EfficientAssetCombinations.loc[EfficientAssetCombinations.index[0]]\r\n",
        "\r\n",
        "BryanAllocation"
      ],
      "execution_count": 36,
      "outputs": [
        {
          "output_type": "execute_result",
          "data": {
            "text/plain": [
              "GOOG    0.687033\n",
              "AAPL    0.312967\n",
              "Name: 547, dtype: float64"
            ]
          },
          "metadata": {
            "tags": []
          },
          "execution_count": 36
        }
      ]
    },
    {
      "cell_type": "code",
      "metadata": {
        "colab": {
          "base_uri": "https://localhost:8080/",
          "height": 143
        },
        "id": "la-46nKzt1JJ",
        "outputId": "f7cfeaba-f4e1-4825-febe-0b327cc1e034"
      },
      "source": [
        "#Naive allocation\r\n",
        "digitRound = 3\r\n",
        "NaiveAssetCombinations =  EfficientAssetCombinations[round(EfficientAssetCombinations.iloc[:, 0], digitRound) ==  1/HowManyStocks]\r\n",
        "\r\n",
        "NaiveAssetCombinations"
      ],
      "execution_count": 37,
      "outputs": [
        {
          "output_type": "execute_result",
          "data": {
            "text/html": [
              "<div>\n",
              "<style scoped>\n",
              "    .dataframe tbody tr th:only-of-type {\n",
              "        vertical-align: middle;\n",
              "    }\n",
              "\n",
              "    .dataframe tbody tr th {\n",
              "        vertical-align: top;\n",
              "    }\n",
              "\n",
              "    .dataframe thead th {\n",
              "        text-align: right;\n",
              "    }\n",
              "</style>\n",
              "<table border=\"1\" class=\"dataframe\">\n",
              "  <thead>\n",
              "    <tr style=\"text-align: right;\">\n",
              "      <th></th>\n",
              "      <th>GOOG</th>\n",
              "      <th>AAPL</th>\n",
              "    </tr>\n",
              "  </thead>\n",
              "  <tbody>\n",
              "    <tr>\n",
              "      <th>219</th>\n",
              "      <td>0.500320</td>\n",
              "      <td>0.499680</td>\n",
              "    </tr>\n",
              "    <tr>\n",
              "      <th>235</th>\n",
              "      <td>0.500082</td>\n",
              "      <td>0.499918</td>\n",
              "    </tr>\n",
              "    <tr>\n",
              "      <th>680</th>\n",
              "      <td>0.499938</td>\n",
              "      <td>0.500062</td>\n",
              "    </tr>\n",
              "  </tbody>\n",
              "</table>\n",
              "</div>"
            ],
            "text/plain": [
              "         GOOG      AAPL\n",
              "219  0.500320  0.499680\n",
              "235  0.500082  0.499918\n",
              "680  0.499938  0.500062"
            ]
          },
          "metadata": {
            "tags": []
          },
          "execution_count": 37
        }
      ]
    },
    {
      "cell_type": "code",
      "metadata": {
        "colab": {
          "base_uri": "https://localhost:8080/"
        },
        "id": "G1wWZvniSGsG",
        "outputId": "89e0454c-c3b1-49c8-9ca9-4e435738506d"
      },
      "source": [
        "NaiveAllocation =  NaiveAssetCombinations.loc[NaiveAssetCombinations.index[0]]\r\n",
        "\r\n",
        "NaiveAllocation"
      ],
      "execution_count": 38,
      "outputs": [
        {
          "output_type": "execute_result",
          "data": {
            "text/plain": [
              "GOOG    0.50032\n",
              "AAPL    0.49968\n",
              "Name: 219, dtype: float64"
            ]
          },
          "metadata": {
            "tags": []
          },
          "execution_count": 38
        }
      ]
    },
    {
      "cell_type": "code",
      "metadata": {
        "id": "TfD48T3O2fqM"
      },
      "source": [
        "#Localisation of Naive combinations\r\n",
        "\r\n",
        "NaiveAssetCombinationsIndex = NaiveAssetCombinations.index\r\n",
        "\r\n",
        "# = PortfolioTrials[ PortfolioTrials['PortfolioReturnTrials'] > PorfolioMinReturn]\r\n",
        "\r\n",
        "PorfolioNaiveReturn   = EfficientPortfolios.loc[NaiveAssetCombinationsIndex[0]]['PortfolioReturnTrials']\r\n",
        "PorfolioNaiveStd      = EfficientPortfolios.loc[NaiveAssetCombinationsIndex[0]]['PortfolioStdTrials']\r\n",
        "\r\n",
        "NaivePortfolios = EfficientPortfolios[ EfficientPortfolios['PortfolioReturnTrials'] >= PorfolioNaiveReturn]"
      ],
      "execution_count": 41,
      "outputs": []
    },
    {
      "cell_type": "code",
      "metadata": {
        "colab": {
          "base_uri": "https://localhost:8080/",
          "height": 206
        },
        "id": "hjlvc6ZZ6pSB",
        "outputId": "91423b83-3b00-4b2e-90b7-352e94c95e00"
      },
      "source": [
        "#We could choose the first portfolio as a NaivePortfolio\r\n",
        "\r\n",
        "NaivePortfolios.head()"
      ],
      "execution_count": 42,
      "outputs": [
        {
          "output_type": "execute_result",
          "data": {
            "text/html": [
              "<div>\n",
              "<style scoped>\n",
              "    .dataframe tbody tr th:only-of-type {\n",
              "        vertical-align: middle;\n",
              "    }\n",
              "\n",
              "    .dataframe tbody tr th {\n",
              "        vertical-align: top;\n",
              "    }\n",
              "\n",
              "    .dataframe thead th {\n",
              "        text-align: right;\n",
              "    }\n",
              "</style>\n",
              "<table border=\"1\" class=\"dataframe\">\n",
              "  <thead>\n",
              "    <tr style=\"text-align: right;\">\n",
              "      <th></th>\n",
              "      <th>PortfolioReturnTrials</th>\n",
              "      <th>PortfolioStdTrials</th>\n",
              "    </tr>\n",
              "  </thead>\n",
              "  <tbody>\n",
              "    <tr>\n",
              "      <th>219</th>\n",
              "      <td>0.348272</td>\n",
              "      <td>0.270923</td>\n",
              "    </tr>\n",
              "    <tr>\n",
              "      <th>235</th>\n",
              "      <td>0.348336</td>\n",
              "      <td>0.270932</td>\n",
              "    </tr>\n",
              "    <tr>\n",
              "      <th>680</th>\n",
              "      <td>0.348375</td>\n",
              "      <td>0.270938</td>\n",
              "    </tr>\n",
              "    <tr>\n",
              "      <th>537</th>\n",
              "      <td>0.349350</td>\n",
              "      <td>0.271082</td>\n",
              "    </tr>\n",
              "    <tr>\n",
              "      <th>678</th>\n",
              "      <td>0.349402</td>\n",
              "      <td>0.271090</td>\n",
              "    </tr>\n",
              "  </tbody>\n",
              "</table>\n",
              "</div>"
            ],
            "text/plain": [
              "     PortfolioReturnTrials  PortfolioStdTrials\n",
              "219               0.348272            0.270923\n",
              "235               0.348336            0.270932\n",
              "680               0.348375            0.270938\n",
              "537               0.349350            0.271082\n",
              "678               0.349402            0.271090"
            ]
          },
          "metadata": {
            "tags": []
          },
          "execution_count": 42
        }
      ]
    },
    {
      "cell_type": "code",
      "metadata": {
        "colab": {
          "base_uri": "https://localhost:8080/",
          "height": 442
        },
        "id": "KnADS6yCK4H1",
        "outputId": "13406bc8-bcc2-4258-98d4-b077319468a3"
      },
      "source": [
        "#Visualizing Naive portfolio limit\r\n",
        "\r\n",
        "PlotFolio = PortfolioTrials.plot.scatter(x = 'PortfolioStdTrials' , y = 'PortfolioReturnTrials', figsize = (14,7))\r\n",
        "PlotEfficientFolio = EfficientPortfolios.plot.scatter(x = 'PortfolioStdTrials' , y = 'PortfolioReturnTrials',\r\n",
        "                                                      c = \"red\", figsize = (14,7), ax = PlotFolio)\r\n",
        "\r\n",
        "\r\n",
        "PlotNaiveFolio = NaivePortfolios.plot.scatter(x = 'PortfolioStdTrials' , y = 'PortfolioReturnTrials',\r\n",
        "                                                      c = \"black\", figsize = (14,7), ax = PlotEfficientFolio)"
      ],
      "execution_count": 43,
      "outputs": [
        {
          "output_type": "display_data",
          "data": {
            "image/png": "[encoded data removed]",
            "text/plain": [
              "<Figure size 1008x504 with 1 Axes>"
            ]
          },
          "metadata": {
            "tags": [],
            "needs_background": "light"
          }
        }
      ]
    },
    {
      "cell_type": "markdown",
      "metadata": {
        "id": "P4Tr_73nLx_4"
      },
      "source": [
        "As we can see here, Naive portfolio is located between red and black scatters.\r\n",
        "\r\n",
        "\r\n"
      ]
    },
    {
      "cell_type": "code",
      "metadata": {
        "colab": {
          "base_uri": "https://localhost:8080/",
          "height": 80
        },
        "id": "wfRVOYF360-4",
        "outputId": "a862ad07-93f2-43db-eda1-2de5513dbc03"
      },
      "source": [
        "#Bryan portfolio\r\n",
        "\r\n",
        "EfficientPortfolios[0:1]  "
      ],
      "execution_count": 44,
      "outputs": [
        {
          "output_type": "execute_result",
          "data": {
            "text/html": [
              "<div>\n",
              "<style scoped>\n",
              "    .dataframe tbody tr th:only-of-type {\n",
              "        vertical-align: middle;\n",
              "    }\n",
              "\n",
              "    .dataframe tbody tr th {\n",
              "        vertical-align: top;\n",
              "    }\n",
              "\n",
              "    .dataframe thead th {\n",
              "        text-align: right;\n",
              "    }\n",
              "</style>\n",
              "<table border=\"1\" class=\"dataframe\">\n",
              "  <thead>\n",
              "    <tr style=\"text-align: right;\">\n",
              "      <th></th>\n",
              "      <th>PortfolioReturnTrials</th>\n",
              "      <th>PortfolioStdTrials</th>\n",
              "    </tr>\n",
              "  </thead>\n",
              "  <tbody>\n",
              "    <tr>\n",
              "      <th>547</th>\n",
              "      <td>0.298084</td>\n",
              "      <td>0.267246</td>\n",
              "    </tr>\n",
              "  </tbody>\n",
              "</table>\n",
              "</div>"
            ],
            "text/plain": [
              "     PortfolioReturnTrials  PortfolioStdTrials\n",
              "547               0.298084            0.267246"
            ]
          },
          "metadata": {
            "tags": []
          },
          "execution_count": 44
        }
      ]
    },
    {
      "cell_type": "code",
      "metadata": {
        "colab": {
          "base_uri": "https://localhost:8080/",
          "height": 80
        },
        "id": "liHoFfDV9qNl",
        "outputId": "817847da-414b-4e8f-d4b4-5af009241175"
      },
      "source": [
        "#A Naive portfolio\r\n",
        "\r\n",
        "NaivePortfolios[0:1]"
      ],
      "execution_count": 45,
      "outputs": [
        {
          "output_type": "execute_result",
          "data": {
            "text/html": [
              "<div>\n",
              "<style scoped>\n",
              "    .dataframe tbody tr th:only-of-type {\n",
              "        vertical-align: middle;\n",
              "    }\n",
              "\n",
              "    .dataframe tbody tr th {\n",
              "        vertical-align: top;\n",
              "    }\n",
              "\n",
              "    .dataframe thead th {\n",
              "        text-align: right;\n",
              "    }\n",
              "</style>\n",
              "<table border=\"1\" class=\"dataframe\">\n",
              "  <thead>\n",
              "    <tr style=\"text-align: right;\">\n",
              "      <th></th>\n",
              "      <th>PortfolioReturnTrials</th>\n",
              "      <th>PortfolioStdTrials</th>\n",
              "    </tr>\n",
              "  </thead>\n",
              "  <tbody>\n",
              "    <tr>\n",
              "      <th>219</th>\n",
              "      <td>0.348272</td>\n",
              "      <td>0.270923</td>\n",
              "    </tr>\n",
              "  </tbody>\n",
              "</table>\n",
              "</div>"
            ],
            "text/plain": [
              "     PortfolioReturnTrials  PortfolioStdTrials\n",
              "219               0.348272            0.270923"
            ]
          },
          "metadata": {
            "tags": []
          },
          "execution_count": 45
        }
      ]
    },
    {
      "cell_type": "markdown",
      "metadata": {
        "id": "BI8acRBAAx8H"
      },
      "source": [
        "My allocation is efficient as well as Naive allocation because the two allocations belong to EfficientPortfolios data, as seen in chunks before.\r\n",
        "\r\n",
        "In this case, it will depends on how we approach our risk level.\r\n",
        "\r\n",
        "Each Individual or client have its own preferences of taking risk for additional return gain.\r\n"
      ]
    },
    {
      "cell_type": "code",
      "metadata": {
        "colab": {
          "base_uri": "https://localhost:8080/",
          "height": 634
        },
        "id": "OawPqeMUCc06",
        "outputId": "4fc3d8b8-1c3d-45c0-d3a7-0a04e903ce85"
      },
      "source": [
        "#Daily graphic visualization of two strategies\r\n",
        "\r\n",
        "DailyBryanStrategy = Returns.dot(BryanAllocation)\r\n",
        "DailyNaiveStrategy = Returns.dot(NaiveAllocation)\r\n",
        "\r\n",
        "\r\n",
        "DailyStrategies = pd.concat([DailyBryanStrategy, DailyNaiveStrategy], axis =1)\r\n",
        "DailyStrategies.columns = ['DailyBryanStrategy', 'DailyNaiveStrategy']\r\n",
        "\r\n",
        "DailyStrategies.plot(figsize = (14,7))"
      ],
      "execution_count": 93,
      "outputs": [
        {
          "output_type": "execute_result",
          "data": {
            "text/plain": [
              "2017-01-03         NaN\n",
              "2017-01-04   -0.000694\n",
              "2017-01-05    0.005799\n",
              "2017-01-06    0.012899\n",
              "2017-01-09    0.005754\n",
              "                ...   \n",
              "2020-12-24    0.005553\n",
              "2020-12-28    0.028912\n",
              "2020-12-29   -0.011288\n",
              "2020-12-30   -0.010439\n",
              "2020-12-31    0.000837\n",
              "Length: 1007, dtype: float64"
            ]
          },
          "metadata": {
            "tags": []
          },
          "execution_count": 93
        },
        {
          "output_type": "display_data",
          "data": {
            "image/png": "[encoded data removed]",
            "text/plain": [
              "<Figure size 1008x504 with 1 Axes>"
            ]
          },
          "metadata": {
            "tags": [],
            "needs_background": "light"
          }
        }
      ]
    },
    {
      "cell_type": "markdown",
      "metadata": {
        "id": "INbFxGcbKfzQ"
      },
      "source": [
        "Beta of the two strategies with NDX as a benchmark"
      ]
    },
    {
      "cell_type": "code",
      "metadata": {
        "colab": {
          "base_uri": "https://localhost:8080/"
        },
        "id": "fWJzoKNwKD58",
        "outputId": "6813fd9d-9c8b-4057-f622-d46a682a339b"
      },
      "source": [
        "NDX = ScalableMarketDf['2017-01-01':'2020-12-31'][['NDX']]\r\n",
        "\r\n",
        "\r\n",
        "NDXReturns = np.log(NDX/NDX.shift(1))\r\n",
        "NDXReturns = NDXReturns.reindex(SelectedDta.index)\r\n",
        "NDXReturns = pd.Series(NDXReturns.values.T[0] , index = NDXReturns.index)\r\n",
        "\r\n",
        "\r\n",
        "BetaBryanStrategy = DailyBryanStrategy.cov(NDXReturns)/NDXReturns.var()\r\n",
        "BetaNaiveStrategy = DailyNaiveStrategy.cov(NDXReturns)/NDXReturns.var()\r\n",
        "\r\n",
        "BetaNaiveStrategy > BetaBryanStrategy"
      ],
      "execution_count": 163,
      "outputs": [
        {
          "output_type": "execute_result",
          "data": {
            "text/plain": [
              "True"
            ]
          },
          "metadata": {
            "tags": []
          },
          "execution_count": 163
        }
      ]
    }
  ]
}